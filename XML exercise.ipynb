{
 "cells": [
  {
   "cell_type": "code",
   "execution_count": 6,
   "metadata": {
    "collapsed": true,
    "deletable": true,
    "editable": true
   },
   "outputs": [],
   "source": [
    "from xml.etree import ElementTree as ET"
   ]
  },
  {
   "cell_type": "code",
   "execution_count": 21,
   "metadata": {
    "collapsed": true,
    "deletable": true,
    "editable": true
   },
   "outputs": [],
   "source": [
    "import pandas as pd"
   ]
  },
  {
   "cell_type": "code",
   "execution_count": 7,
   "metadata": {
    "collapsed": true,
    "deletable": true,
    "editable": true
   },
   "outputs": [],
   "source": [
    "document_tree = ET.parse( 'data/mondial_database_less.xml' )"
   ]
  },
  {
   "cell_type": "code",
   "execution_count": 85,
   "metadata": {
    "collapsed": true,
    "deletable": true,
    "editable": true
   },
   "outputs": [],
   "source": [
    "doc_tree = ET.parse( 'data/mondial_database.xml' )"
   ]
  },
  {
   "cell_type": "markdown",
   "metadata": {},
   "source": [
    "#### 1. 10 countries with the lowest infant mortality rates"
   ]
  },
  {
   "cell_type": "code",
   "execution_count": 54,
   "metadata": {
    "collapsed": false,
    "deletable": true,
    "editable": true
   },
   "outputs": [
    {
     "data": {
      "text/html": [
       "<div>\n",
       "<table border=\"1\" class=\"dataframe\">\n",
       "  <thead>\n",
       "    <tr style=\"text-align: right;\">\n",
       "      <th></th>\n",
       "      <th>Infant Mortality</th>\n",
       "    </tr>\n",
       "  </thead>\n",
       "  <tbody>\n",
       "    <tr>\n",
       "      <th>Monaco</th>\n",
       "      <td>1.81</td>\n",
       "    </tr>\n",
       "    <tr>\n",
       "      <th>Japan</th>\n",
       "      <td>2.13</td>\n",
       "    </tr>\n",
       "    <tr>\n",
       "      <th>Norway</th>\n",
       "      <td>2.48</td>\n",
       "    </tr>\n",
       "    <tr>\n",
       "      <th>Bermuda</th>\n",
       "      <td>2.48</td>\n",
       "    </tr>\n",
       "    <tr>\n",
       "      <th>Singapore</th>\n",
       "      <td>2.53</td>\n",
       "    </tr>\n",
       "    <tr>\n",
       "      <th>Sweden</th>\n",
       "      <td>2.60</td>\n",
       "    </tr>\n",
       "    <tr>\n",
       "      <th>Czech Republic</th>\n",
       "      <td>2.63</td>\n",
       "    </tr>\n",
       "    <tr>\n",
       "      <th>Hong Kong</th>\n",
       "      <td>2.73</td>\n",
       "    </tr>\n",
       "    <tr>\n",
       "      <th>Macao</th>\n",
       "      <td>3.13</td>\n",
       "    </tr>\n",
       "    <tr>\n",
       "      <th>Iceland</th>\n",
       "      <td>3.15</td>\n",
       "    </tr>\n",
       "  </tbody>\n",
       "</table>\n",
       "</div>"
      ],
      "text/plain": [
       "                Infant Mortality\n",
       "Monaco                      1.81\n",
       "Japan                       2.13\n",
       "Norway                      2.48\n",
       "Bermuda                     2.48\n",
       "Singapore                   2.53\n",
       "Sweden                      2.60\n",
       "Czech Republic              2.63\n",
       "Hong Kong                   2.73\n",
       "Macao                       3.13\n",
       "Iceland                     3.15"
      ]
     },
     "execution_count": 54,
     "metadata": {},
     "output_type": "execute_result"
    }
   ],
   "source": [
    "# empty dict to store 'country: mortality' values\n",
    "countries = {}\n",
    "\n",
    "# loop through the country elements and add mortality values for each country in the dict\n",
    "for element in doc_tree.iterfind('country'):\n",
    "    for inf_mort in element.iterfind('infant_mortality'):\n",
    "        countries[element.find('name').text] = [float(element.find('infant_mortality').text)]\n",
    "\n",
    "# create a DataFrame from the dict, sort showing lowest mortality rate first\n",
    "countries_df = pd.DataFrame.from_dict(countries, orient = 'index')\n",
    "countries_df.columns=['Infant Mortality']\n",
    "countries_df.sort_values(by='Infant Mortality', ascending=True).head(10)\n"
   ]
  },
  {
   "cell_type": "code",
   "execution_count": null,
   "metadata": {
    "collapsed": false,
    "deletable": true,
    "editable": true
   },
   "outputs": [],
   "source": []
  },
  {
   "cell_type": "markdown",
   "metadata": {},
   "source": [
    "#### 2. 10 cities with the largest population"
   ]
  },
  {
   "cell_type": "code",
   "execution_count": 84,
   "metadata": {
    "collapsed": false,
    "deletable": true,
    "editable": true,
    "scrolled": true
   },
   "outputs": [
    {
     "data": {
      "text/html": [
       "<div>\n",
       "<table border=\"1\" class=\"dataframe\">\n",
       "  <thead>\n",
       "    <tr style=\"text-align: right;\">\n",
       "      <th></th>\n",
       "      <th>Country</th>\n",
       "      <th>City</th>\n",
       "      <th>Year</th>\n",
       "      <th>Population</th>\n",
       "    </tr>\n",
       "  </thead>\n",
       "  <tbody>\n",
       "    <tr>\n",
       "      <th>1341</th>\n",
       "      <td>China</td>\n",
       "      <td>Shanghai</td>\n",
       "      <td>2010</td>\n",
       "      <td>22315474</td>\n",
       "    </tr>\n",
       "    <tr>\n",
       "      <th>771</th>\n",
       "      <td>Turkey</td>\n",
       "      <td>Istanbul</td>\n",
       "      <td>2012</td>\n",
       "      <td>13710512</td>\n",
       "    </tr>\n",
       "    <tr>\n",
       "      <th>1527</th>\n",
       "      <td>India</td>\n",
       "      <td>Mumbai</td>\n",
       "      <td>2011</td>\n",
       "      <td>12442373</td>\n",
       "    </tr>\n",
       "    <tr>\n",
       "      <th>479</th>\n",
       "      <td>Russia</td>\n",
       "      <td>Moskva</td>\n",
       "      <td>2013</td>\n",
       "      <td>11979529</td>\n",
       "    </tr>\n",
       "    <tr>\n",
       "      <th>1340</th>\n",
       "      <td>China</td>\n",
       "      <td>Beijing</td>\n",
       "      <td>2010</td>\n",
       "      <td>11716620</td>\n",
       "    </tr>\n",
       "    <tr>\n",
       "      <th>2810</th>\n",
       "      <td>Brazil</td>\n",
       "      <td>São Paulo</td>\n",
       "      <td>2010</td>\n",
       "      <td>11152344</td>\n",
       "    </tr>\n",
       "    <tr>\n",
       "      <th>1342</th>\n",
       "      <td>China</td>\n",
       "      <td>Tianjin</td>\n",
       "      <td>2010</td>\n",
       "      <td>11090314</td>\n",
       "    </tr>\n",
       "    <tr>\n",
       "      <th>1064</th>\n",
       "      <td>China</td>\n",
       "      <td>Guangzhou</td>\n",
       "      <td>2010</td>\n",
       "      <td>11071424</td>\n",
       "    </tr>\n",
       "    <tr>\n",
       "      <th>1582</th>\n",
       "      <td>India</td>\n",
       "      <td>Delhi</td>\n",
       "      <td>2011</td>\n",
       "      <td>11034555</td>\n",
       "    </tr>\n",
       "    <tr>\n",
       "      <th>1067</th>\n",
       "      <td>China</td>\n",
       "      <td>Shenzhen</td>\n",
       "      <td>2010</td>\n",
       "      <td>10358381</td>\n",
       "    </tr>\n",
       "  </tbody>\n",
       "</table>\n",
       "</div>"
      ],
      "text/plain": [
       "     Country       City  Year  Population\n",
       "1341   China   Shanghai  2010    22315474\n",
       "771   Turkey   Istanbul  2012    13710512\n",
       "1527   India     Mumbai  2011    12442373\n",
       "479   Russia     Moskva  2013    11979529\n",
       "1340   China    Beijing  2010    11716620\n",
       "2810  Brazil  São Paulo  2010    11152344\n",
       "1342   China    Tianjin  2010    11090314\n",
       "1064   China  Guangzhou  2010    11071424\n",
       "1582   India      Delhi  2011    11034555\n",
       "1067   China   Shenzhen  2010    10358381"
      ]
     },
     "execution_count": 84,
     "metadata": {},
     "output_type": "execute_result"
    }
   ],
   "source": [
    "# create empty list to store 'country', 'city', 'year', 'population' values\n",
    "city_pop = []\n",
    "# loop through 'country' elements\n",
    "for element in doc_tree.iterfind('country'):\n",
    "    country = element.find('name').text\n",
    "    # loop through city subelements\n",
    "    for subelement in element.getiterator('city'):\n",
    "        city = subelement.find('name')\n",
    "        if city != None:\n",
    "            yr = 0\n",
    "            pop = 0\n",
    "            # loop through 'population' subelements\n",
    "            for popelement in subelement.getiterator('population'):          \n",
    "                if popelement != None: \n",
    "                    # get the population value only from the most recent year\n",
    "                    if int(popelement.attrib['year']) > yr:\n",
    "                        yr = int(popelement.attrib['year'])\n",
    "                        pop = int(popelement.text)\n",
    "            # append the all the elemnts to the list            \n",
    "            city_pop.append([country, city.text, int(popelement.attrib['year']), int(popelement.text)])\n",
    "\n",
    "# create a DataFrame from the list, define columns, sort values to show largest population\n",
    "city_pop_df = pd.DataFrame.from_records(city_pop)\n",
    "city_pop_df.columns = ['Country', 'City', 'Year', 'Population']\n",
    "city_pop_df.sort_values(by='Population', ascending=False).head(10)"
   ]
  },
  {
   "cell_type": "code",
   "execution_count": null,
   "metadata": {
    "collapsed": false,
    "deletable": true,
    "editable": true
   },
   "outputs": [],
   "source": []
  },
  {
   "cell_type": "markdown",
   "metadata": {
    "collapsed": true,
    "deletable": true,
    "editable": true
   },
   "source": [
    "#### 3. 10 ethnic groups with the largest overall  populations (sum of best/latest estimates over all countries)"
   ]
  },
  {
   "cell_type": "code",
   "execution_count": 414,
   "metadata": {
    "collapsed": false,
    "scrolled": true
   },
   "outputs": [
    {
     "data": {
      "text/html": [
       "<div>\n",
       "<table border=\"1\" class=\"dataframe\">\n",
       "  <thead>\n",
       "    <tr style=\"text-align: right;\">\n",
       "      <th></th>\n",
       "      <th>Population</th>\n",
       "    </tr>\n",
       "    <tr>\n",
       "      <th>Ethnic Group</th>\n",
       "      <th></th>\n",
       "    </tr>\n",
       "  </thead>\n",
       "  <tbody>\n",
       "    <tr>\n",
       "      <th>Han Chinese</th>\n",
       "      <td>1.245059e+09</td>\n",
       "    </tr>\n",
       "    <tr>\n",
       "      <th>Indo-Aryan</th>\n",
       "      <td>8.718156e+08</td>\n",
       "    </tr>\n",
       "    <tr>\n",
       "      <th>European</th>\n",
       "      <td>4.948722e+08</td>\n",
       "    </tr>\n",
       "    <tr>\n",
       "      <th>African</th>\n",
       "      <td>3.183251e+08</td>\n",
       "    </tr>\n",
       "    <tr>\n",
       "      <th>Dravidian</th>\n",
       "      <td>3.027137e+08</td>\n",
       "    </tr>\n",
       "    <tr>\n",
       "      <th>Mestizo</th>\n",
       "      <td>1.577344e+08</td>\n",
       "    </tr>\n",
       "    <tr>\n",
       "      <th>Bengali</th>\n",
       "      <td>1.467769e+08</td>\n",
       "    </tr>\n",
       "    <tr>\n",
       "      <th>Russian</th>\n",
       "      <td>1.318570e+08</td>\n",
       "    </tr>\n",
       "    <tr>\n",
       "      <th>Japanese</th>\n",
       "      <td>1.265342e+08</td>\n",
       "    </tr>\n",
       "    <tr>\n",
       "      <th>Malay</th>\n",
       "      <td>1.219936e+08</td>\n",
       "    </tr>\n",
       "  </tbody>\n",
       "</table>\n",
       "</div>"
      ],
      "text/plain": [
       "                Population\n",
       "Ethnic Group              \n",
       "Han Chinese   1.245059e+09\n",
       "Indo-Aryan    8.718156e+08\n",
       "European      4.948722e+08\n",
       "African       3.183251e+08\n",
       "Dravidian     3.027137e+08\n",
       "Mestizo       1.577344e+08\n",
       "Bengali       1.467769e+08\n",
       "Russian       1.318570e+08\n",
       "Japanese      1.265342e+08\n",
       "Malay         1.219936e+08"
      ]
     },
     "execution_count": 414,
     "metadata": {},
     "output_type": "execute_result"
    }
   ],
   "source": [
    "# create empty list to store values\n",
    "eth_groups = []\n",
    "# loop through the countries\n",
    "for element in doc_tree.iterfind('country'):\n",
    "    country = element.find('name').text\n",
    "    year = 0\n",
    "    #loop through population in each country from the most recent year\n",
    "    for popelem in element.findall('population'):\n",
    "        if int(popelem.attrib['year']) > year:\n",
    "            population = int(popelem.text)\n",
    "            year = int(popelem.attrib['year'])\n",
    "    # loop through ethnic groups in each country\n",
    "    # calculate ethnic groups' % ratio from overall country population\n",
    "    for ethnic in element.findall('ethnicgroup'):\n",
    "        percent = float(ethnic.attrib['percentage']) / 100\n",
    "        eth_groups.append([country, ethnic.text, int(year), (float(population)*percent)])\n",
    "\n",
    "# creata a DataFrame from the list, define columns\n",
    "ethnic_gr_df = pd.DataFrame.from_records(eth_groups)\n",
    "ethnic_gr_df.columns = ['Country', 'Ethnic Group', 'Year', 'Population']\n",
    "# group by ethnic groups, aggregate pop values for grouped ethnic groups, sort to show largest pop values\n",
    "ethnic_gr_df[['Ethnic Group', 'Population']].groupby(['Ethnic Group']).sum().sort_values(by='Population', ascending=False).head(10)"
   ]
  },
  {
   "cell_type": "code",
   "execution_count": null,
   "metadata": {
    "collapsed": true
   },
   "outputs": [],
   "source": []
  },
  {
   "cell_type": "markdown",
   "metadata": {},
   "source": [
    "#### 4. name and country of \n",
    "    a) longest river \n",
    "    b) largest lake \n",
    "    c) airport at highest elevation"
   ]
  },
  {
   "cell_type": "code",
   "execution_count": 363,
   "metadata": {
    "collapsed": false
   },
   "outputs": [],
   "source": [
    "# define a function that will return a DataFrame with desired subelement and its features\n",
    "def search2(item, feature):\n",
    "    \n",
    "    # Create a dict to store 'country code: country name' pairs\n",
    "    country_dict2={}\n",
    "    for country_element in doc_tree.iterfind('country'):\n",
    "        country_dict2[country_element.attrib['car_code']] = country_element.find('name').text\n",
    "\n",
    "    # empty list to store subelement name, country code, country name, subelement feature\n",
    "    item_country_list2 =[]\n",
    "    # loop through the subelement to get the name and its feature \n",
    "    for item_el in doc_tree.iterfind(item):\n",
    "        item2 = item_el.find('name').text\n",
    "        item_feature = item_el.find(feature)\n",
    "        if item_feature != None: # include only features that have value\n",
    "            item_feature = item_feature.text\n",
    "            # subelements may lay in several countries, so get each country code and add to the list\n",
    "            for item_coun_code2 in item_el.attrib['country'].split():\n",
    "                item_country2 = country_dict2[item_coun_code2]\n",
    "                item_country_list2.append([item2, item_coun_code2, item_country2, float(item_feature)])\n",
    "    \n",
    "    # create a DataFrame from the list, define columns\n",
    "    item_country_df2 = pd.DataFrame.from_records(item_country_list2)\n",
    "    item_country_df2.columns=[item, 'CountryCode', 'CountryName', feature]\n",
    "\n",
    "    df3 = item_country_df2.copy()\n",
    "    # filter the rows to show only the desired item and its feature and associated countries\n",
    "    measure = df3[item] == df3.sort_values(by=feature, ascending=False).iloc[0, 0]\n",
    "    return df3[measure]"
   ]
  },
  {
   "cell_type": "code",
   "execution_count": 364,
   "metadata": {
    "collapsed": true
   },
   "outputs": [],
   "source": [
    "# longest river and countries\n",
    "df3 = search2('river', 'length')"
   ]
  },
  {
   "cell_type": "code",
   "execution_count": 365,
   "metadata": {
    "collapsed": false
   },
   "outputs": [
    {
     "data": {
      "text/html": [
       "<div>\n",
       "<table border=\"1\" class=\"dataframe\">\n",
       "  <thead>\n",
       "    <tr style=\"text-align: right;\">\n",
       "      <th></th>\n",
       "      <th>river</th>\n",
       "      <th>CountryCode</th>\n",
       "      <th>CountryName</th>\n",
       "      <th>length</th>\n",
       "    </tr>\n",
       "  </thead>\n",
       "  <tbody>\n",
       "    <tr>\n",
       "      <th>298</th>\n",
       "      <td>Amazonas</td>\n",
       "      <td>CO</td>\n",
       "      <td>Colombia</td>\n",
       "      <td>6448.0</td>\n",
       "    </tr>\n",
       "    <tr>\n",
       "      <th>299</th>\n",
       "      <td>Amazonas</td>\n",
       "      <td>BR</td>\n",
       "      <td>Brazil</td>\n",
       "      <td>6448.0</td>\n",
       "    </tr>\n",
       "    <tr>\n",
       "      <th>300</th>\n",
       "      <td>Amazonas</td>\n",
       "      <td>PE</td>\n",
       "      <td>Peru</td>\n",
       "      <td>6448.0</td>\n",
       "    </tr>\n",
       "  </tbody>\n",
       "</table>\n",
       "</div>"
      ],
      "text/plain": [
       "        river CountryCode CountryName  length\n",
       "298  Amazonas          CO    Colombia  6448.0\n",
       "299  Amazonas          BR      Brazil  6448.0\n",
       "300  Amazonas          PE        Peru  6448.0"
      ]
     },
     "execution_count": 365,
     "metadata": {},
     "output_type": "execute_result"
    }
   ],
   "source": [
    "df3"
   ]
  },
  {
   "cell_type": "code",
   "execution_count": 369,
   "metadata": {
    "collapsed": false
   },
   "outputs": [],
   "source": [
    "# largest lake and countries\n",
    "df4 = search2('lake', 'area')"
   ]
  },
  {
   "cell_type": "code",
   "execution_count": 370,
   "metadata": {
    "collapsed": false
   },
   "outputs": [
    {
     "data": {
      "text/html": [
       "<div>\n",
       "<table border=\"1\" class=\"dataframe\">\n",
       "  <thead>\n",
       "    <tr style=\"text-align: right;\">\n",
       "      <th></th>\n",
       "      <th>lake</th>\n",
       "      <th>CountryCode</th>\n",
       "      <th>CountryName</th>\n",
       "      <th>area</th>\n",
       "    </tr>\n",
       "  </thead>\n",
       "  <tbody>\n",
       "    <tr>\n",
       "      <th>68</th>\n",
       "      <td>Caspian Sea</td>\n",
       "      <td>R</td>\n",
       "      <td>Russia</td>\n",
       "      <td>386400.0</td>\n",
       "    </tr>\n",
       "    <tr>\n",
       "      <th>69</th>\n",
       "      <td>Caspian Sea</td>\n",
       "      <td>AZ</td>\n",
       "      <td>Azerbaijan</td>\n",
       "      <td>386400.0</td>\n",
       "    </tr>\n",
       "    <tr>\n",
       "      <th>70</th>\n",
       "      <td>Caspian Sea</td>\n",
       "      <td>KAZ</td>\n",
       "      <td>Kazakhstan</td>\n",
       "      <td>386400.0</td>\n",
       "    </tr>\n",
       "    <tr>\n",
       "      <th>71</th>\n",
       "      <td>Caspian Sea</td>\n",
       "      <td>IR</td>\n",
       "      <td>Iran</td>\n",
       "      <td>386400.0</td>\n",
       "    </tr>\n",
       "    <tr>\n",
       "      <th>72</th>\n",
       "      <td>Caspian Sea</td>\n",
       "      <td>TM</td>\n",
       "      <td>Turkmenistan</td>\n",
       "      <td>386400.0</td>\n",
       "    </tr>\n",
       "  </tbody>\n",
       "</table>\n",
       "</div>"
      ],
      "text/plain": [
       "           lake CountryCode   CountryName      area\n",
       "68  Caspian Sea           R        Russia  386400.0\n",
       "69  Caspian Sea          AZ    Azerbaijan  386400.0\n",
       "70  Caspian Sea         KAZ    Kazakhstan  386400.0\n",
       "71  Caspian Sea          IR          Iran  386400.0\n",
       "72  Caspian Sea          TM  Turkmenistan  386400.0"
      ]
     },
     "execution_count": 370,
     "metadata": {},
     "output_type": "execute_result"
    }
   ],
   "source": [
    "df4"
   ]
  },
  {
   "cell_type": "code",
   "execution_count": 434,
   "metadata": {
    "collapsed": false
   },
   "outputs": [],
   "source": [
    "# airport at highest elevation\n",
    "def search3(item, feature):\n",
    "    \n",
    "    # Create a dict to store 'country code: country name' pairs\n",
    "    country_dict2={}\n",
    "    for country_element in doc_tree.iterfind('country'):\n",
    "        country_dict2[country_element.attrib['car_code']] = country_element.find('name').text\n",
    "    \n",
    "    # list to store item name, country code, country name and feature\n",
    "    item_country_list2 =[]\n",
    "    # loop through the desired element, find the feature\n",
    "    # associate the element with corresponding country code and country\n",
    "    for item_el in doc_tree.iterfind(item):\n",
    "        item_name = item_el.find('name').text\n",
    "        item_country_code = item_el.attrib['country']\n",
    "        item_country = country_dict2[item_country_code]\n",
    "        item_feature_el = item_el.find(feature)\n",
    "        if item_feature_el != None: # to include only feature that has value\n",
    "            item_feature = item_feature_el.text\n",
    "            if item_feature != None: # to exclude empty strings\n",
    "                item_country_list2.append([item_name, item_country_code, item_country, float(item_feature)])\n",
    "    \n",
    "    # create DataFrame from the list\n",
    "    item_country_df = pd.DataFrame.from_records(item_country_list2)\n",
    "    item_country_df.columns=[item, 'CountryCode', 'CountryName', feature]\n",
    "    \n",
    "    df = item_country_df.copy()\n",
    "    # filter the rows to show only the desired item and its feature and associated country(s)\n",
    "    elev = df[item] == df.sort_values(by=feature, ascending=False).iloc[0, 0]\n",
    "    return df[elev]"
   ]
  },
  {
   "cell_type": "code",
   "execution_count": 435,
   "metadata": {
    "collapsed": false
   },
   "outputs": [],
   "source": [
    "# airport and elevation\n",
    "df6 = search3('airport', 'elevation')"
   ]
  },
  {
   "cell_type": "code",
   "execution_count": 436,
   "metadata": {
    "collapsed": false
   },
   "outputs": [
    {
     "data": {
      "text/html": [
       "<div>\n",
       "<table border=\"1\" class=\"dataframe\">\n",
       "  <thead>\n",
       "    <tr style=\"text-align: right;\">\n",
       "      <th></th>\n",
       "      <th>airport</th>\n",
       "      <th>CountryCode</th>\n",
       "      <th>CountryName</th>\n",
       "      <th>elevation</th>\n",
       "    </tr>\n",
       "  </thead>\n",
       "  <tbody>\n",
       "    <tr>\n",
       "      <th>80</th>\n",
       "      <td>El Alto Intl</td>\n",
       "      <td>BOL</td>\n",
       "      <td>Bolivia</td>\n",
       "      <td>4063.0</td>\n",
       "    </tr>\n",
       "  </tbody>\n",
       "</table>\n",
       "</div>"
      ],
      "text/plain": [
       "         airport CountryCode CountryName  elevation\n",
       "80  El Alto Intl         BOL     Bolivia     4063.0"
      ]
     },
     "execution_count": 436,
     "metadata": {},
     "output_type": "execute_result"
    }
   ],
   "source": [
    "df6"
   ]
  },
  {
   "cell_type": "code",
   "execution_count": null,
   "metadata": {
    "collapsed": true
   },
   "outputs": [],
   "source": []
  }
 ],
 "metadata": {
  "kernelspec": {
   "display_name": "Python 3",
   "language": "python",
   "name": "python3"
  },
  "language_info": {
   "codemirror_mode": {
    "name": "ipython",
    "version": 3
   },
   "file_extension": ".py",
   "mimetype": "text/x-python",
   "name": "python",
   "nbconvert_exporter": "python",
   "pygments_lexer": "ipython3",
   "version": "3.5.3"
  }
 },
 "nbformat": 4,
 "nbformat_minor": 2
}
